{
 "cells": [
  {
   "cell_type": "code",
   "execution_count": null,
   "id": "d5124ec8",
   "metadata": {},
   "outputs": [],
   "source": [
    "print(\"Hello World\")"
   ]
  },
  {
   "cell_type": "markdown",
   "id": "60c87fd8",
   "metadata": {},
   "source": [
    "### Print your name"
   ]
  },
  {
   "cell_type": "code",
   "execution_count": null,
   "id": "3f504475",
   "metadata": {
    "scrolled": true
   },
   "outputs": [],
   "source": [
    "Print(\"Hello World\")"
   ]
  },
  {
   "cell_type": "markdown",
   "id": "00974622",
   "metadata": {},
   "source": [
    "### It should be written as print not Print"
   ]
  },
  {
   "cell_type": "markdown",
   "id": "003177ff",
   "metadata": {},
   "source": [
    "# It should be written as print not Print"
   ]
  },
  {
   "cell_type": "code",
   "execution_count": null,
   "id": "4261fc69",
   "metadata": {},
   "outputs": [],
   "source": [
    "print(\"Welcome to the Analytics course\")"
   ]
  },
  {
   "cell_type": "markdown",
   "id": "b69e4179",
   "metadata": {},
   "source": [
    "### Data Types"
   ]
  },
  {
   "cell_type": "code",
   "execution_count": null,
   "id": "c7145c26",
   "metadata": {},
   "outputs": [],
   "source": [
    "x=100\n",
    "print(x)"
   ]
  },
  {
   "cell_type": "code",
   "execution_count": null,
   "id": "feaed8e9",
   "metadata": {},
   "outputs": [],
   "source": [
    "x=100\n",
    "x"
   ]
  },
  {
   "cell_type": "code",
   "execution_count": null,
   "id": "4e027708",
   "metadata": {},
   "outputs": [],
   "source": [
    "type(x)"
   ]
  },
  {
   "cell_type": "code",
   "execution_count": null,
   "id": "684e7e50",
   "metadata": {},
   "outputs": [],
   "source": [
    "g=112.76\n",
    "type(g)"
   ]
  },
  {
   "cell_type": "code",
   "execution_count": null,
   "id": "ab6e7eda",
   "metadata": {},
   "outputs": [],
   "source": [
    "course=\"Analytics\"\n",
    "type(course)"
   ]
  },
  {
   "cell_type": "code",
   "execution_count": null,
   "id": "45d28f6d",
   "metadata": {},
   "outputs": [],
   "source": [
    "course='Analytics'\n",
    "type(course)"
   ]
  },
  {
   "cell_type": "code",
   "execution_count": null,
   "id": "67ab8218",
   "metadata": {},
   "outputs": [],
   "source": [
    "course=Analytics\n",
    "type(course)"
   ]
  },
  {
   "cell_type": "markdown",
   "id": "2d277b29",
   "metadata": {},
   "source": [
    "##### String should always be defined with single or double inverted comma"
   ]
  },
  {
   "cell_type": "code",
   "execution_count": null,
   "id": "593bb006",
   "metadata": {},
   "outputs": [],
   "source": [
    "z=True\n",
    "type(z)"
   ]
  },
  {
   "cell_type": "code",
   "execution_count": null,
   "id": "c6b1656b",
   "metadata": {},
   "outputs": [],
   "source": [
    "z=False\n",
    "type(z)"
   ]
  },
  {
   "cell_type": "code",
   "execution_count": null,
   "id": "af1168f7",
   "metadata": {},
   "outputs": [],
   "source": [
    "z=\"true\"\n",
    "type(z)"
   ]
  },
  {
   "cell_type": "markdown",
   "id": "ed1ac06c",
   "metadata": {},
   "source": [
    "##### 1.No decimal point-Integer\n",
    "##### 2.Decimal Point -Float\n",
    "##### 3.Text-String(and it should be in inverted comma)\n",
    "##### 4.True/False -Bool"
   ]
  },
  {
   "cell_type": "markdown",
   "id": "2e920f2a",
   "metadata": {},
   "source": [
    "### Rules for naming the variables\n"
   ]
  },
  {
   "cell_type": "code",
   "execution_count": null,
   "id": "b6bb775f",
   "metadata": {},
   "outputs": [],
   "source": [
    "name_list=\"Latha\",\"Abhinav\",\"Ayush\",\"Bhavana\"\n",
    "name_list"
   ]
  },
  {
   "cell_type": "code",
   "execution_count": null,
   "id": "e8f5fbb3",
   "metadata": {},
   "outputs": [],
   "source": [
    "Name_list=\"Latha\",\"Abhinav\",\"Ayush\",\"Bhavana\"\n",
    "Name_list"
   ]
  },
  {
   "cell_type": "code",
   "execution_count": null,
   "id": "4b50c81b",
   "metadata": {},
   "outputs": [],
   "source": [
    "namelist=\"Latha\",\"Abhinav\",\"Ayush\",\"Bhavana\"\n",
    "namelist"
   ]
  },
  {
   "cell_type": "code",
   "execution_count": null,
   "id": "36cec75c",
   "metadata": {},
   "outputs": [],
   "source": [
    "Namelist=\"Latha\",\"Abhinav\",\"Ayush\",\"Bhavana\"\n",
    "Namelist"
   ]
  },
  {
   "cell_type": "code",
   "execution_count": null,
   "id": "cc461569",
   "metadata": {},
   "outputs": [],
   "source": [
    "8namelist=\"Latha\",\"Abhinav\",\"Ayush\",\"Bhavana\"\n",
    "8namelist"
   ]
  },
  {
   "cell_type": "code",
   "execution_count": null,
   "id": "c410244d",
   "metadata": {},
   "outputs": [],
   "source": [
    "n4ame_list=\"Latha\",\"Abhinav\",\"Ayush\",\"Bhavana\"\n",
    "n4ame_list"
   ]
  },
  {
   "cell_type": "code",
   "execution_count": null,
   "id": "49050b6d",
   "metadata": {},
   "outputs": [],
   "source": [
    "name list=\"Latha\",\"Abhinav\",\"Ayush\",\"Bhavana\"\n",
    "name list"
   ]
  },
  {
   "cell_type": "code",
   "execution_count": null,
   "id": "a2586143",
   "metadata": {},
   "outputs": [],
   "source": [
    "name+list=\"Latha\",\"Abhinav\",\"Ayush\",\"Bhavana\"\n",
    "name+list"
   ]
  },
  {
   "cell_type": "code",
   "execution_count": null,
   "id": "a54719cc",
   "metadata": {},
   "outputs": [],
   "source": [
    "name-list=\"Latha\",\"Abhinav\",\"Ayush\",\"Bhavana\"\n",
    "name-list"
   ]
  },
  {
   "cell_type": "code",
   "execution_count": null,
   "id": "3865eb27",
   "metadata": {},
   "outputs": [],
   "source": [
    "name_list=\"Latha\",\"Abhinav\",\"Ayush\",\"Bhavana\"\n",
    "NAME_list"
   ]
  },
  {
   "cell_type": "markdown",
   "id": "06ff6366",
   "metadata": {},
   "source": [
    "##### 1.Variable name should start with A-Z,a-z,or underscore(_)\n",
    "##### 2.Variable name should not start with a number\n",
    "##### 3.Space is not allowed\n",
    "##### 4.Only allowed spl char is underscore\n",
    "##### 5.Case sensive"
   ]
  },
  {
   "cell_type": "markdown",
   "id": "54003abd",
   "metadata": {},
   "source": [
    "### Data Structures"
   ]
  },
  {
   "cell_type": "code",
   "execution_count": null,
   "id": "8ac78f31",
   "metadata": {},
   "outputs": [],
   "source": []
  }
 ],
 "metadata": {
  "kernelspec": {
   "display_name": "Python 3 (ipykernel)",
   "language": "python",
   "name": "python3"
  },
  "language_info": {
   "codemirror_mode": {
    "name": "ipython",
    "version": 3
   },
   "file_extension": ".py",
   "mimetype": "text/x-python",
   "name": "python",
   "nbconvert_exporter": "python",
   "pygments_lexer": "ipython3",
   "version": "3.8.3"
  }
 },
 "nbformat": 4,
 "nbformat_minor": 5
}
