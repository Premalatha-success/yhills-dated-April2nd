{
 "cells": [
  {
   "cell_type": "code",
   "execution_count": 1,
   "id": "6296fbce",
   "metadata": {},
   "outputs": [
    {
     "name": "stdout",
     "output_type": "stream",
     "text": [
      "Hello World\n"
     ]
    }
   ],
   "source": [
    "print(\"Hello World\")"
   ]
  },
  {
   "cell_type": "markdown",
   "id": "b4d54199",
   "metadata": {},
   "source": [
    "### Print your name"
   ]
  },
  {
   "cell_type": "code",
   "execution_count": 2,
   "id": "aa4f8360",
   "metadata": {
    "scrolled": true
   },
   "outputs": [
    {
     "ename": "NameError",
     "evalue": "name 'Print' is not defined",
     "output_type": "error",
     "traceback": [
      "\u001b[1;31m---------------------------------------------------------------------------\u001b[0m",
      "\u001b[1;31mNameError\u001b[0m                                 Traceback (most recent call last)",
      "\u001b[1;32mC:\\Users\\PREMAL~1\\AppData\\Local\\Temp/ipykernel_25796/320528285.py\u001b[0m in \u001b[0;36m<module>\u001b[1;34m\u001b[0m\n\u001b[1;32m----> 1\u001b[1;33m \u001b[0mPrint\u001b[0m\u001b[1;33m(\u001b[0m\u001b[1;34m\"Hello World\"\u001b[0m\u001b[1;33m)\u001b[0m\u001b[1;33m\u001b[0m\u001b[1;33m\u001b[0m\u001b[0m\n\u001b[0m",
      "\u001b[1;31mNameError\u001b[0m: name 'Print' is not defined"
     ]
    }
   ],
   "source": [
    "Print(\"Hello World\")"
   ]
  },
  {
   "cell_type": "markdown",
   "id": "c57598fa",
   "metadata": {},
   "source": [
    "### It should be written as print not Print"
   ]
  },
  {
   "cell_type": "markdown",
   "id": "2af830c9",
   "metadata": {},
   "source": [
    "# It should be written as print not Print"
   ]
  },
  {
   "cell_type": "code",
   "execution_count": 3,
   "id": "52e5d5f3",
   "metadata": {},
   "outputs": [
    {
     "name": "stdout",
     "output_type": "stream",
     "text": [
      "Welcome to the Analytics course\n"
     ]
    }
   ],
   "source": [
    "print(\"Welcome to the Analytics course\")"
   ]
  },
  {
   "cell_type": "markdown",
   "id": "8d2c843f",
   "metadata": {},
   "source": [
    "### Data Types"
   ]
  },
  {
   "cell_type": "code",
   "execution_count": 4,
   "id": "f0ec61c4",
   "metadata": {},
   "outputs": [
    {
     "name": "stdout",
     "output_type": "stream",
     "text": [
      "100\n"
     ]
    }
   ],
   "source": [
    "x=100\n",
    "print(x)"
   ]
  },
  {
   "cell_type": "code",
   "execution_count": 5,
   "id": "8191fd15",
   "metadata": {},
   "outputs": [
    {
     "data": {
      "text/plain": [
       "100"
      ]
     },
     "execution_count": 5,
     "metadata": {},
     "output_type": "execute_result"
    }
   ],
   "source": [
    "x=100\n",
    "x"
   ]
  },
  {
   "cell_type": "code",
   "execution_count": 6,
   "id": "509eb9fb",
   "metadata": {},
   "outputs": [
    {
     "data": {
      "text/plain": [
       "int"
      ]
     },
     "execution_count": 6,
     "metadata": {},
     "output_type": "execute_result"
    }
   ],
   "source": [
    "type(x)"
   ]
  },
  {
   "cell_type": "code",
   "execution_count": 7,
   "id": "9f646b28",
   "metadata": {},
   "outputs": [
    {
     "data": {
      "text/plain": [
       "float"
      ]
     },
     "execution_count": 7,
     "metadata": {},
     "output_type": "execute_result"
    }
   ],
   "source": [
    "g=112.76\n",
    "type(g)"
   ]
  },
  {
   "cell_type": "code",
   "execution_count": 8,
   "id": "a94580a7",
   "metadata": {},
   "outputs": [
    {
     "data": {
      "text/plain": [
       "str"
      ]
     },
     "execution_count": 8,
     "metadata": {},
     "output_type": "execute_result"
    }
   ],
   "source": [
    "course=\"Analytics\"\n",
    "type(course)"
   ]
  },
  {
   "cell_type": "code",
   "execution_count": 9,
   "id": "4143d0ac",
   "metadata": {},
   "outputs": [
    {
     "data": {
      "text/plain": [
       "str"
      ]
     },
     "execution_count": 9,
     "metadata": {},
     "output_type": "execute_result"
    }
   ],
   "source": [
    "course='Analytics'\n",
    "type(course)"
   ]
  },
  {
   "cell_type": "code",
   "execution_count": 10,
   "id": "23a839a7",
   "metadata": {},
   "outputs": [
    {
     "ename": "NameError",
     "evalue": "name 'Analytics' is not defined",
     "output_type": "error",
     "traceback": [
      "\u001b[1;31m---------------------------------------------------------------------------\u001b[0m",
      "\u001b[1;31mNameError\u001b[0m                                 Traceback (most recent call last)",
      "\u001b[1;32mC:\\Users\\PREMAL~1\\AppData\\Local\\Temp/ipykernel_25796/2669919848.py\u001b[0m in \u001b[0;36m<module>\u001b[1;34m\u001b[0m\n\u001b[1;32m----> 1\u001b[1;33m \u001b[0mcourse\u001b[0m\u001b[1;33m=\u001b[0m\u001b[0mAnalytics\u001b[0m\u001b[1;33m\u001b[0m\u001b[1;33m\u001b[0m\u001b[0m\n\u001b[0m\u001b[0;32m      2\u001b[0m \u001b[0mtype\u001b[0m\u001b[1;33m(\u001b[0m\u001b[0mcourse\u001b[0m\u001b[1;33m)\u001b[0m\u001b[1;33m\u001b[0m\u001b[1;33m\u001b[0m\u001b[0m\n",
      "\u001b[1;31mNameError\u001b[0m: name 'Analytics' is not defined"
     ]
    }
   ],
   "source": [
    "course=Analytics\n",
    "type(course)"
   ]
  },
  {
   "cell_type": "markdown",
   "id": "62896369",
   "metadata": {},
   "source": [
    "##### String should always be defined with single or double inverted comma"
   ]
  },
  {
   "cell_type": "code",
   "execution_count": 11,
   "id": "740e8dfb",
   "metadata": {},
   "outputs": [
    {
     "data": {
      "text/plain": [
       "bool"
      ]
     },
     "execution_count": 11,
     "metadata": {},
     "output_type": "execute_result"
    }
   ],
   "source": [
    "z=True\n",
    "type(z)"
   ]
  },
  {
   "cell_type": "code",
   "execution_count": 12,
   "id": "62ee942f",
   "metadata": {},
   "outputs": [
    {
     "data": {
      "text/plain": [
       "bool"
      ]
     },
     "execution_count": 12,
     "metadata": {},
     "output_type": "execute_result"
    }
   ],
   "source": [
    "z=False\n",
    "type(z)"
   ]
  },
  {
   "cell_type": "code",
   "execution_count": 13,
   "id": "1a8685c1",
   "metadata": {},
   "outputs": [
    {
     "data": {
      "text/plain": [
       "str"
      ]
     },
     "execution_count": 13,
     "metadata": {},
     "output_type": "execute_result"
    }
   ],
   "source": [
    "z=\"true\"\n",
    "type(z)"
   ]
  },
  {
   "cell_type": "markdown",
   "id": "8e7781e1",
   "metadata": {},
   "source": [
    "##### 1.No decimal point-Integer\n",
    "##### 2.Decimal Point -Float\n",
    "##### 3.Text-String(and it should be in inverted comma)\n",
    "##### 4.True/False -Bool"
   ]
  },
  {
   "cell_type": "markdown",
   "id": "51384e38",
   "metadata": {},
   "source": [
    "### Rules for naming the variables\n"
   ]
  },
  {
   "cell_type": "code",
   "execution_count": 14,
   "id": "eae98d69",
   "metadata": {},
   "outputs": [
    {
     "data": {
      "text/plain": [
       "('Latha', 'Abhinav', 'Ayush', 'Bhavana')"
      ]
     },
     "execution_count": 14,
     "metadata": {},
     "output_type": "execute_result"
    }
   ],
   "source": [
    "name_list=\"Latha\",\"Abhinav\",\"Ayush\",\"Bhavana\"\n",
    "name_list"
   ]
  },
  {
   "cell_type": "code",
   "execution_count": 15,
   "id": "625c7ef3",
   "metadata": {},
   "outputs": [
    {
     "data": {
      "text/plain": [
       "('Latha', 'Abhinav', 'Ayush', 'Bhavana')"
      ]
     },
     "execution_count": 15,
     "metadata": {},
     "output_type": "execute_result"
    }
   ],
   "source": [
    "Name_list=\"Latha\",\"Abhinav\",\"Ayush\",\"Bhavana\"\n",
    "Name_list"
   ]
  },
  {
   "cell_type": "code",
   "execution_count": 16,
   "id": "33f0e23a",
   "metadata": {},
   "outputs": [
    {
     "data": {
      "text/plain": [
       "('Latha', 'Abhinav', 'Ayush', 'Bhavana')"
      ]
     },
     "execution_count": 16,
     "metadata": {},
     "output_type": "execute_result"
    }
   ],
   "source": [
    "namelist=\"Latha\",\"Abhinav\",\"Ayush\",\"Bhavana\"\n",
    "namelist"
   ]
  },
  {
   "cell_type": "code",
   "execution_count": 17,
   "id": "b37f22aa",
   "metadata": {},
   "outputs": [
    {
     "data": {
      "text/plain": [
       "('Latha', 'Abhinav', 'Ayush', 'Bhavana')"
      ]
     },
     "execution_count": 17,
     "metadata": {},
     "output_type": "execute_result"
    }
   ],
   "source": [
    "Namelist=\"Latha\",\"Abhinav\",\"Ayush\",\"Bhavana\"\n",
    "Namelist"
   ]
  },
  {
   "cell_type": "code",
   "execution_count": 18,
   "id": "360fff92",
   "metadata": {},
   "outputs": [
    {
     "ename": "SyntaxError",
     "evalue": "invalid syntax (Temp/ipykernel_25796/72399924.py, line 1)",
     "output_type": "error",
     "traceback": [
      "\u001b[1;36m  File \u001b[1;32m\"C:\\Users\\PREMAL~1\\AppData\\Local\\Temp/ipykernel_25796/72399924.py\"\u001b[1;36m, line \u001b[1;32m1\u001b[0m\n\u001b[1;33m    8namelist=\"Latha\",\"Abhinav\",\"Ayush\",\"Bhavana\"\u001b[0m\n\u001b[1;37m     ^\u001b[0m\n\u001b[1;31mSyntaxError\u001b[0m\u001b[1;31m:\u001b[0m invalid syntax\n"
     ]
    }
   ],
   "source": [
    "8namelist=\"Latha\",\"Abhinav\",\"Ayush\",\"Bhavana\"\n",
    "8namelist"
   ]
  },
  {
   "cell_type": "code",
   "execution_count": 19,
   "id": "c2c346fe",
   "metadata": {},
   "outputs": [
    {
     "data": {
      "text/plain": [
       "('Latha', 'Abhinav', 'Ayush', 'Bhavana')"
      ]
     },
     "execution_count": 19,
     "metadata": {},
     "output_type": "execute_result"
    }
   ],
   "source": [
    "n4ame_list=\"Latha\",\"Abhinav\",\"Ayush\",\"Bhavana\"\n",
    "n4ame_list"
   ]
  },
  {
   "cell_type": "code",
   "execution_count": 20,
   "id": "fadaf270",
   "metadata": {},
   "outputs": [
    {
     "ename": "SyntaxError",
     "evalue": "invalid syntax (Temp/ipykernel_25796/613905111.py, line 1)",
     "output_type": "error",
     "traceback": [
      "\u001b[1;36m  File \u001b[1;32m\"C:\\Users\\PREMAL~1\\AppData\\Local\\Temp/ipykernel_25796/613905111.py\"\u001b[1;36m, line \u001b[1;32m1\u001b[0m\n\u001b[1;33m    name list=\"Latha\",\"Abhinav\",\"Ayush\",\"Bhavana\"\u001b[0m\n\u001b[1;37m         ^\u001b[0m\n\u001b[1;31mSyntaxError\u001b[0m\u001b[1;31m:\u001b[0m invalid syntax\n"
     ]
    }
   ],
   "source": [
    "name list=\"Latha\",\"Abhinav\",\"Ayush\",\"Bhavana\"\n",
    "name list"
   ]
  },
  {
   "cell_type": "code",
   "execution_count": 21,
   "id": "9dbff2e8",
   "metadata": {},
   "outputs": [
    {
     "ename": "SyntaxError",
     "evalue": "cannot assign to operator (Temp/ipykernel_25796/343778793.py, line 1)",
     "output_type": "error",
     "traceback": [
      "\u001b[1;36m  File \u001b[1;32m\"C:\\Users\\PREMAL~1\\AppData\\Local\\Temp/ipykernel_25796/343778793.py\"\u001b[1;36m, line \u001b[1;32m1\u001b[0m\n\u001b[1;33m    name+list=\"Latha\",\"Abhinav\",\"Ayush\",\"Bhavana\"\u001b[0m\n\u001b[1;37m    ^\u001b[0m\n\u001b[1;31mSyntaxError\u001b[0m\u001b[1;31m:\u001b[0m cannot assign to operator\n"
     ]
    }
   ],
   "source": [
    "name+list=\"Latha\",\"Abhinav\",\"Ayush\",\"Bhavana\"\n",
    "name+list"
   ]
  },
  {
   "cell_type": "code",
   "execution_count": 22,
   "id": "2dbe4644",
   "metadata": {},
   "outputs": [
    {
     "ename": "SyntaxError",
     "evalue": "cannot assign to operator (Temp/ipykernel_25796/2681276418.py, line 1)",
     "output_type": "error",
     "traceback": [
      "\u001b[1;36m  File \u001b[1;32m\"C:\\Users\\PREMAL~1\\AppData\\Local\\Temp/ipykernel_25796/2681276418.py\"\u001b[1;36m, line \u001b[1;32m1\u001b[0m\n\u001b[1;33m    name-list=\"Latha\",\"Abhinav\",\"Ayush\",\"Bhavana\"\u001b[0m\n\u001b[1;37m    ^\u001b[0m\n\u001b[1;31mSyntaxError\u001b[0m\u001b[1;31m:\u001b[0m cannot assign to operator\n"
     ]
    }
   ],
   "source": [
    "name-list=\"Latha\",\"Abhinav\",\"Ayush\",\"Bhavana\"\n",
    "name-list"
   ]
  },
  {
   "cell_type": "code",
   "execution_count": 23,
   "id": "912822e2",
   "metadata": {},
   "outputs": [
    {
     "ename": "NameError",
     "evalue": "name 'NAME_list' is not defined",
     "output_type": "error",
     "traceback": [
      "\u001b[1;31m---------------------------------------------------------------------------\u001b[0m",
      "\u001b[1;31mNameError\u001b[0m                                 Traceback (most recent call last)",
      "\u001b[1;32mC:\\Users\\PREMAL~1\\AppData\\Local\\Temp/ipykernel_25796/97655354.py\u001b[0m in \u001b[0;36m<module>\u001b[1;34m\u001b[0m\n\u001b[0;32m      1\u001b[0m \u001b[0mname_list\u001b[0m\u001b[1;33m=\u001b[0m\u001b[1;34m\"Latha\"\u001b[0m\u001b[1;33m,\u001b[0m\u001b[1;34m\"Abhinav\"\u001b[0m\u001b[1;33m,\u001b[0m\u001b[1;34m\"Ayush\"\u001b[0m\u001b[1;33m,\u001b[0m\u001b[1;34m\"Bhavana\"\u001b[0m\u001b[1;33m\u001b[0m\u001b[1;33m\u001b[0m\u001b[0m\n\u001b[1;32m----> 2\u001b[1;33m \u001b[0mNAME_list\u001b[0m\u001b[1;33m\u001b[0m\u001b[1;33m\u001b[0m\u001b[0m\n\u001b[0m",
      "\u001b[1;31mNameError\u001b[0m: name 'NAME_list' is not defined"
     ]
    }
   ],
   "source": [
    "name_list=\"Latha\",\"Abhinav\",\"Ayush\",\"Bhavana\"\n",
    "NAME_list"
   ]
  },
  {
   "cell_type": "markdown",
   "id": "8d2d91a9",
   "metadata": {},
   "source": [
    "##### 1.Variable name should start with A-Z,a-z,or underscore(_)\n",
    "##### 2.Variable name should not start with a number\n",
    "##### 3.Space is not allowed\n",
    "##### 4.Only allowed spl char is underscore\n",
    "##### 5.Case sensive"
   ]
  },
  {
   "cell_type": "markdown",
   "id": "e8b8d5ec",
   "metadata": {},
   "source": [
    "### Data Structures"
   ]
  },
  {
   "cell_type": "code",
   "execution_count": null,
   "id": "4dbb4cf8",
   "metadata": {},
   "outputs": [],
   "source": []
  }
 ],
 "metadata": {
  "kernelspec": {
   "display_name": "Python 3 (ipykernel)",
   "language": "python",
   "name": "python3"
  },
  "language_info": {
   "codemirror_mode": {
    "name": "ipython",
    "version": 3
   },
   "file_extension": ".py",
   "mimetype": "text/x-python",
   "name": "python",
   "nbconvert_exporter": "python",
   "pygments_lexer": "ipython3",
   "version": "3.8.3"
  }
 },
 "nbformat": 4,
 "nbformat_minor": 5
}
