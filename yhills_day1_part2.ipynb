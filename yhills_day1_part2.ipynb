{
 "cells": [
  {
   "cell_type": "markdown",
   "id": "f70dd531",
   "metadata": {},
   "source": [
    "### Data Structures"
   ]
  },
  {
   "cell_type": "code",
   "execution_count": null,
   "id": "d6a7dd42",
   "metadata": {},
   "outputs": [],
   "source": [
    "my_list=[1,2,3,4,5,6.7,1.34,\"hi\",True]\n",
    "my_list"
   ]
  },
  {
   "cell_type": "code",
   "execution_count": null,
   "id": "71fc3ae5",
   "metadata": {},
   "outputs": [],
   "source": [
    "type(my_list)"
   ]
  },
  {
   "cell_type": "markdown",
   "id": "228efeb0",
   "metadata": {},
   "source": [
    "##### List is heterogenous-allowing all data types\n",
    "##### Square brackets"
   ]
  },
  {
   "cell_type": "code",
   "execution_count": null,
   "id": "a4cb9bb8",
   "metadata": {},
   "outputs": [],
   "source": [
    "my_list[0]"
   ]
  },
  {
   "cell_type": "code",
   "execution_count": null,
   "id": "b82bee97",
   "metadata": {},
   "outputs": [],
   "source": [
    "my_list[3]"
   ]
  },
  {
   "cell_type": "code",
   "execution_count": null,
   "id": "be6a1afe",
   "metadata": {},
   "outputs": [],
   "source": [
    "my_list[8]"
   ]
  },
  {
   "cell_type": "code",
   "execution_count": null,
   "id": "6e5fc254",
   "metadata": {},
   "outputs": [],
   "source": [
    "my_list[9]"
   ]
  },
  {
   "cell_type": "code",
   "execution_count": null,
   "id": "72029e27",
   "metadata": {},
   "outputs": [],
   "source": [
    "my_list[2]"
   ]
  },
  {
   "cell_type": "markdown",
   "id": "310644f6",
   "metadata": {},
   "source": [
    "##### Retrieve the elements using index\n",
    "##### Index starts from zero"
   ]
  },
  {
   "cell_type": "code",
   "execution_count": null,
   "id": "c543f2a5",
   "metadata": {},
   "outputs": [],
   "source": [
    "my_list[2]=100\n",
    "my_list"
   ]
  },
  {
   "cell_type": "code",
   "execution_count": null,
   "id": "62a6d832",
   "metadata": {},
   "outputs": [],
   "source": [
    "my_list[5]=99\n",
    "my_list"
   ]
  },
  {
   "cell_type": "markdown",
   "id": "1d7fa242",
   "metadata": {},
   "source": [
    "##### Change the value/element using index-Mutable"
   ]
  },
  {
   "cell_type": "code",
   "execution_count": null,
   "id": "395e5ff7",
   "metadata": {},
   "outputs": [],
   "source": [
    "my_tuple=(1,2,3,4,5,6.7,1.34,\"hi\",True)\n",
    "my_tuple"
   ]
  },
  {
   "cell_type": "code",
   "execution_count": null,
   "id": "6ade5f7d",
   "metadata": {},
   "outputs": [],
   "source": [
    "type(my_tuple)"
   ]
  },
  {
   "cell_type": "code",
   "execution_count": null,
   "id": "792c7a23",
   "metadata": {},
   "outputs": [],
   "source": [
    "my_tuple[0]"
   ]
  },
  {
   "cell_type": "code",
   "execution_count": null,
   "id": "d6687f87",
   "metadata": {},
   "outputs": [],
   "source": [
    "my_tuple[7]"
   ]
  },
  {
   "cell_type": "code",
   "execution_count": null,
   "id": "6728b13e",
   "metadata": {},
   "outputs": [],
   "source": [
    "my_tuple[10]"
   ]
  },
  {
   "cell_type": "code",
   "execution_count": null,
   "id": "5b4b0571",
   "metadata": {},
   "outputs": [],
   "source": [
    "my_tuple[0]=100\n",
    "my_tuple"
   ]
  },
  {
   "cell_type": "markdown",
   "id": "cb34b374",
   "metadata": {},
   "source": [
    "##### 1.Tuple is heterogenous\n",
    "##### 2.Retrieve the elements using index\n",
    "##### 3.Tuple is immutable-We cannot make any changes\n",
    "##### 4.Its written in paranthesis"
   ]
  },
  {
   "cell_type": "markdown",
   "id": "ff98f69c",
   "metadata": {},
   "source": [
    "### Set"
   ]
  },
  {
   "cell_type": "code",
   "execution_count": null,
   "id": "de71569d",
   "metadata": {},
   "outputs": [],
   "source": [
    "my_set={1,2,3,4,1,9,8,7,11.1,\"abc\",\"hi\",\"hello\"}\n",
    "my_set"
   ]
  },
  {
   "cell_type": "code",
   "execution_count": null,
   "id": "92f8f2ac",
   "metadata": {},
   "outputs": [],
   "source": [
    "my_set[0]"
   ]
  },
  {
   "cell_type": "code",
   "execution_count": null,
   "id": "5548a9eb",
   "metadata": {},
   "outputs": [],
   "source": [
    "my_set[0]=12\n",
    "my_set"
   ]
  },
  {
   "cell_type": "code",
   "execution_count": null,
   "id": "a5a40f76",
   "metadata": {},
   "outputs": [],
   "source": [
    "my_set.remove(8)\n",
    "my_set"
   ]
  },
  {
   "cell_type": "code",
   "execution_count": null,
   "id": "6c1950c7",
   "metadata": {},
   "outputs": [],
   "source": [
    "my_set.add(123)\n",
    "my_set"
   ]
  },
  {
   "cell_type": "markdown",
   "id": "6e678906",
   "metadata": {},
   "source": [
    "##### Set is written with{}\n",
    "##### It does not allow duplicate\n",
    "##### Cannot be Retrieved using index\n",
    "##### Mutable or not?Mutable->add /remove but we cant do with index"
   ]
  },
  {
   "cell_type": "markdown",
   "id": "f9366ef1",
   "metadata": {},
   "source": [
    "### Dictionary"
   ]
  },
  {
   "cell_type": "code",
   "execution_count": null,
   "id": "70f2f37c",
   "metadata": {},
   "outputs": [],
   "source": [
    "my_dict={\"a\":\"first\",1:\"first\",\"a\":\"fifth\",5:17,7:\"fifth\"}\n",
    "my_dict"
   ]
  },
  {
   "cell_type": "code",
   "execution_count": null,
   "id": "cf5bc041",
   "metadata": {},
   "outputs": [],
   "source": [
    "my_dict[\"a\"]"
   ]
  },
  {
   "cell_type": "code",
   "execution_count": null,
   "id": "6d95b086",
   "metadata": {},
   "outputs": [],
   "source": [
    "my_dict[\"first\"]"
   ]
  },
  {
   "cell_type": "code",
   "execution_count": null,
   "id": "e3171812",
   "metadata": {},
   "outputs": [],
   "source": [
    "my_dict.update({2:7})"
   ]
  },
  {
   "cell_type": "code",
   "execution_count": null,
   "id": "53ad5350",
   "metadata": {},
   "outputs": [],
   "source": [
    "my_dict"
   ]
  },
  {
   "cell_type": "markdown",
   "id": "902ee699",
   "metadata": {},
   "source": [
    "##### Dictionary has key-value pair datastructure\n",
    "##### Curly brackets\n",
    "##### Key is unique\n",
    "##### Values can be duplicated\n",
    "##### Accessing the value using key is possible"
   ]
  },
  {
   "cell_type": "code",
   "execution_count": null,
   "id": "bce4b90d",
   "metadata": {},
   "outputs": [],
   "source": []
  }
 ],
 "metadata": {
  "kernelspec": {
   "display_name": "Python 3 (ipykernel)",
   "language": "python",
   "name": "python3"
  },
  "language_info": {
   "codemirror_mode": {
    "name": "ipython",
    "version": 3
   },
   "file_extension": ".py",
   "mimetype": "text/x-python",
   "name": "python",
   "nbconvert_exporter": "python",
   "pygments_lexer": "ipython3",
   "version": "3.8.3"
  }
 },
 "nbformat": 4,
 "nbformat_minor": 5
}
